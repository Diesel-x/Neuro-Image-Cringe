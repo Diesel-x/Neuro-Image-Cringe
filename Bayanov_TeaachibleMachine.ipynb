{
 "cells": [
  {
   "cell_type": "markdown",
   "metadata": {},
   "source": [
    "# Отчёт по выполнению заданий с сервисов Teachible Machine\n"
   ]
  },
  {
   "cell_type": "markdown",
   "metadata": {},
   "source": [
    "## Введение.\n"
   ]
  },
  {
   "cell_type": "markdown",
   "metadata": {},
   "source": [
    "Teachable Machine – это веб-версия инструмента, которая позволяет всем желающим легко создать модель машинного обучения.\n",
    "\n",
    "Чтобы научить компьютер распознавать изображения, звуки и позы с помощью Teachable Machine не нужно писать код. Вы можете использовать модель в своих проектах, на сайтах, в приложениях и не только.\n",
    "\n",
    "Сервис Teachable Machine доступен по ссылке [teachablemachine.withgoogle.com](teachablemachine.withgoogle.com).  Язык пользовательского интерфейса - русский."
   ]
  },
  {
   "cell_type": "markdown",
   "metadata": {},
   "source": [
    "## Задание 1."
   ]
  },
  {
   "cell_type": "markdown",
   "metadata": {},
   "source": [
    "Необходимо обучить модель различать две группы изображений: хот-доги и не хот-доги с помощью готового (размеченного) набора изображений."
   ]
  },
  {
   "cell_type": "markdown",
   "metadata": {},
   "source": []
  },
  {
   "cell_type": "markdown",
   "metadata": {},
   "source": [
    "## Задание 2."
   ]
  },
  {
   "cell_type": "markdown",
   "metadata": {},
   "source": [
    "Соберите коллекцию изображений как минимум трех классов (можно сделать больше классов). В каждом классе должно быть минимум 10 изображений. Можно использовать изображения из интернета или создать собственные изображения с помощью камеры. Обучите модель в сервисе Teachable Machine.\n"
   ]
  }
 ],
 "metadata": {
  "language_info": {
   "name": "python"
  }
 },
 "nbformat": 4,
 "nbformat_minor": 2
}
